{
 "cells": [
  {
   "cell_type": "markdown",
   "metadata": {},
   "source": [
    "# Chapter1"
   ]
  },
  {
   "cell_type": "markdown",
   "metadata": {},
   "source": [
    "## 00 \n",
    "文字列\"stressed\"の文字を逆に並べた文字列を得よ"
   ]
  },
  {
   "cell_type": "code",
   "execution_count": 1,
   "metadata": {
    "scrolled": true
   },
   "outputs": [
    {
     "name": "stdout",
     "output_type": "stream",
     "text": [
      "desserts\n"
     ]
    }
   ],
   "source": [
    "if __name__ == '__main__':\n",
    "    text = \"stressed\"\n",
    "    answer = text[::-1]\n",
    "    print(answer)"
   ]
  },
  {
   "cell_type": "markdown",
   "metadata": {},
   "source": [
    "---"
   ]
  },
  {
   "cell_type": "markdown",
   "metadata": {},
   "source": [
    "## 01\n",
    "\"パタトクカシーー\"という文字列の1,3,5,7文字目を取り出して連結した文字列を得よ"
   ]
  },
  {
   "cell_type": "code",
   "execution_count": 2,
   "metadata": {},
   "outputs": [
    {
     "name": "stdout",
     "output_type": "stream",
     "text": [
      "パトカー\n"
     ]
    }
   ],
   "source": [
    "if __name__ == '__main__':\n",
    "    text = \"パタトクカシーー\"\n",
    "    answer = text[::2]\n",
    "    print(answer)"
   ]
  },
  {
   "cell_type": "markdown",
   "metadata": {},
   "source": [
    "---"
   ]
  },
  {
   "cell_type": "markdown",
   "metadata": {},
   "source": [
    "## 02\n",
    "\"パトカー\"と\"タクシー\"の文字を先頭から交互に連結して文字列\"パタトクカシーー\"を得よ"
   ]
  },
  {
   "cell_type": "code",
   "execution_count": 3,
   "metadata": {},
   "outputs": [
    {
     "name": "stdout",
     "output_type": "stream",
     "text": [
      "パタトクカシーー\n"
     ]
    }
   ],
   "source": [
    "if __name__ == '__main__':\n",
    "    text1 = \"パトカー\"\n",
    "    text2 = \"タクシー\"\n",
    "    answer = \"\"\n",
    "    for (ti, tj) in zip(text1, text2):\n",
    "        answer = answer + ti + tj\n",
    "    print(answer)\n"
   ]
  },
  {
   "cell_type": "markdown",
   "metadata": {},
   "source": [
    "---"
   ]
  },
  {
   "cell_type": "markdown",
   "metadata": {},
   "source": [
    "## 03\n",
    "文を単語に分解し，各単語の文字数を先頭から出現順に並べたリストを作成せよ．"
   ]
  },
  {
   "cell_type": "code",
   "execution_count": 4,
   "metadata": {},
   "outputs": [
    {
     "name": "stdout",
     "output_type": "stream",
     "text": [
      "[3, 1, 4, 1, 5, 9, 2, 6, 5, 3, 5, 8, 9, 7, 9]\n"
     ]
    }
   ],
   "source": [
    "import re\n",
    "\n",
    "if __name__ == '__main__':\n",
    "    text = \"\"\"\n",
    "    Now I need a drink, alcoholic of course, \n",
    "    after the heavy lectures involving quantum mechanics.\n",
    "    \"\"\"\n",
    "    words = re.sub(\"[,\\.]\", \" \", text)\n",
    "    answer = [len(ti) for ti in words.split()]\n",
    "    print(answer)"
   ]
  },
  {
   "cell_type": "markdown",
   "metadata": {},
   "source": [
    "---"
   ]
  },
  {
   "cell_type": "markdown",
   "metadata": {},
   "source": [
    "## 04\n",
    "文を単語に分解し，1, 5, 6, 7, 8, 9, 15, 16, 19番目の単語は先頭の1文字，\n",
    "それ以外の単語は先頭に2文字を取り出し，取り出した文字列から単語の位置への連想配列を作成せよ．"
   ]
  },
  {
   "cell_type": "code",
   "execution_count": 5,
   "metadata": {},
   "outputs": [
    {
     "name": "stdout",
     "output_type": "stream",
     "text": [
      "OrderedDict([('H', 1), ('He', 2), ('Li', 3), ('Be', 4), ('B', 5), ('C', 6), ('N', 7), ('O', 8), ('F', 9), ('Ne', 10), ('Na', 11), ('Mi', 12), ('Al', 13), ('Si', 14), ('P', 15), ('S', 16), ('Cl', 17), ('Ar', 18), ('K', 19), ('Ca', 20)])\n"
     ]
    }
   ],
   "source": [
    "import re\n",
    "from collections import OrderedDict\n",
    "\n",
    "if __name__ == '__main__':\n",
    "    text = \"\"\"\n",
    "    Hi He Lied Because Boron Could Not Oxidize Fluorine. \n",
    "    New Nations Might Also Sign Peace Security Clause. \n",
    "    Arthur King Can.\n",
    "    \"\"\"\n",
    "    words = re.sub(\"[,\\.]\", \" \", text).split()\n",
    "    target = [\n",
    "      1, 5, 6,\n",
    "      7, 8, 9,\n",
    "      15, 16, 19\n",
    "    ]\n",
    "    answer = OrderedDict()\n",
    "    for i in range(len(words)):\n",
    "        answer[words[i][0:1 if i+1 in target else 2] ] = i+1\n",
    "    print(answer)"
   ]
  },
  {
   "cell_type": "markdown",
   "metadata": {},
   "source": [
    "---"
   ]
  },
  {
   "cell_type": "markdown",
   "metadata": {},
   "source": [
    "## 05\n",
    "与えられたシーケンス（文字列やリストなど）からn-gramを作る関数を作成せよ．\n",
    "この関数を用い，\"I am an NLPer\"という文から単語bi-gram，文字bi-gramを得よ．"
   ]
  },
  {
   "cell_type": "code",
   "execution_count": 6,
   "metadata": {},
   "outputs": [
    {
     "name": "stdout",
     "output_type": "stream",
     "text": [
      "['I am', 'am an', 'an NLPer']\n",
      "['Ia', 'am', 'ma', 'an', 'nN', 'NL', 'LP', 'Pe', 'er']\n"
     ]
    }
   ],
   "source": [
    "def n_gram(n, mode, text):\n",
    "    res = []\n",
    "    res_unic = []\n",
    "    if mode == 'word':\n",
    "        words = text.split()\n",
    "        for i in range(len(words)-n+1):\n",
    "            res.append(\" \".join(words[i:i+n:1]))\n",
    "    \n",
    "    elif mode == 'char':\n",
    "        chars = text.replace(\" \", \"\")\n",
    "        for i in range(len(chars)-n+1):\n",
    "            res.append(chars[i:i+n:1])\n",
    "\n",
    "    for ri in res:\n",
    "        if ri not in res_unic:\n",
    "            res_unic.append(ri)\n",
    "    return res_unic\n",
    "#end def\n",
    "\n",
    "if __name__ == \"__main__\":\n",
    "    answer = n_gram(n = 2, \n",
    "                  mode = 'word', \n",
    "                  text = \"I am an NLPer\")\n",
    "    print(answer)\n",
    "    answer = n_gram(n = 2, \n",
    "                  mode = 'char', \n",
    "                  text = \"I am an NLPer\")\n",
    "    print(answer)"
   ]
  },
  {
   "cell_type": "markdown",
   "metadata": {},
   "source": [
    "---"
   ]
  },
  {
   "cell_type": "markdown",
   "metadata": {},
   "source": [
    "## 06\n",
    "文字bi-gramの集合を，それぞれ, XとYとして求め，XとYの和集合，積集合，差集合を求めよ．\n",
    "さらに，'se'というbi-gramがXおよびYに含まれるかどうかを調べよ．\n"
   ]
  },
  {
   "cell_type": "code",
   "execution_count": 7,
   "metadata": {
    "scrolled": true
   },
   "outputs": [
    {
     "name": "stdout",
     "output_type": "stream",
     "text": [
      "union: {'ap', 'pa', 'ag', 'di', 'ra', 'ad', 'is', 'se', 'gr', 'ph', 'ar'}\n",
      "intersection: {'ra', 'ar', 'ap', 'pa'}\n",
      "difference: {'gr', 'ph', 'se', 'ag', 'di', 'is', 'ad'}\n",
      "se in x?: True\n",
      "se in y?: False\n"
     ]
    }
   ],
   "source": [
    "from p05 import n_gram \n",
    "from pprint import pprint\n",
    "from collections import OrderedDict\n",
    "\n",
    "if __name__ == \"__main__\":\n",
    "    text1 = \"paraparaparadise\"\n",
    "    text2 = \"paragraph\"\n",
    "    x = set(n_gram(n = 2,\n",
    "                 mode = 'char',\n",
    "                 text = text1))\n",
    "    y = set(n_gram(n = 2,\n",
    "                 mode = 'char',\n",
    "                 text = text2))\n",
    "    print(\"union: \" +str(x.union(y)))\n",
    "    print(\"intersection: \" +str(x.intersection(y)))\n",
    "    print(\"difference: \" +str(x.symmetric_difference(y)))\n",
    "    print(\"se in x?: \" +str('se' in x))\n",
    "    print(\"se in y?: \" +str('se' in y))"
   ]
  },
  {
   "cell_type": "markdown",
   "metadata": {},
   "source": [
    "---"
   ]
  },
  {
   "cell_type": "markdown",
   "metadata": {},
   "source": [
    "## 07\n",
    "引数x, y, zを受け取り「x時のyはz」という文字列を返す関数を実装せよ．\n",
    "さらに，x=12, y=\"気温\", z=22.4として，実行結果を確認せよ．"
   ]
  },
  {
   "cell_type": "code",
   "execution_count": 8,
   "metadata": {},
   "outputs": [
    {
     "name": "stdout",
     "output_type": "stream",
     "text": [
      "12時の気温は22.4\n"
     ]
    }
   ],
   "source": [
    "def case_string(x, y, z):\n",
    "    return \"%s時の%sは%s\" % (x, y, z)\n",
    "#end def\n",
    "\n",
    "if __name__ == \"__main__\":\n",
    "    answer = case_string(12, \"気温\", 22.4)\n",
    "    print(answer)"
   ]
  },
  {
   "cell_type": "markdown",
   "metadata": {},
   "source": [
    "---"
   ]
  },
  {
   "cell_type": "markdown",
   "metadata": {},
   "source": [
    "## 08\n",
    "与えられた文字列の各文字を，以下の仕様で変換する関数cipherを実装せよ.\n",
    "- 英小文字ならば(219 - 文字コード)の文字に置換\n",
    "- その他の文字はそのまま出力\n"
   ]
  },
  {
   "cell_type": "code",
   "execution_count": 9,
   "metadata": {},
   "outputs": [
    {
     "name": "stdout",
     "output_type": "stream",
     "text": [
      "I love Yomi Natsusaki\n",
      "I olev Ylnr Nzghfhzpr\n"
     ]
    }
   ],
   "source": [
    "def cipher(text):\n",
    "    res = \"\"\n",
    "    for i in range(len(text)):\n",
    "        if text[i].islower() :\n",
    "            res+=chr(219-ord(text[i]))\n",
    "        else:\n",
    "            res+=text[i]\n",
    "    return res\n",
    "#end def\n",
    "\n",
    "if __name__ == \"__main__\":\n",
    "    text = \"I love Yomi Natsusaki\"\n",
    "    print(text)\n",
    "    answer = cipher(text)\n",
    "    print(answer)"
   ]
  },
  {
   "cell_type": "markdown",
   "metadata": {},
   "source": [
    "---"
   ]
  },
  {
   "cell_type": "markdown",
   "metadata": {},
   "source": [
    "## 09\n",
    "スペースで区切られた単語列のうち長さが4より大きい単語に対して，各単語の先頭と末尾の文字は残し，それ以外の文字の順序をランダムに並び替えろ"
   ]
  },
  {
   "cell_type": "code",
   "execution_count": 10,
   "metadata": {},
   "outputs": [
    {
     "name": "stdout",
     "output_type": "stream",
     "text": [
      "I cudol'nt blvieee that I could actaluly uanedrntsd what I was rainedg : the pemenhnaol peowr of the human mind .\n"
     ]
    }
   ],
   "source": [
    "import random\n",
    "\n",
    "if __name__ == \"__main__\":\n",
    "    text=\"\"\"\n",
    "      I couldn't believe that I could actually understand what I was reading \n",
    "      : the phenomenal power of the human mind .\n",
    "      \"\"\"\n",
    "    words = text.split()\n",
    "    for i in range(len(words)):\n",
    "        if len(words[i]) > 4 :\n",
    "            words[i] = words[i][0] \\\n",
    "                       + \"\".join(random.sample(words[i][1:-1], len(words[i])-2)) \\\n",
    "                       + words[i][-1]\n",
    "    answer = \" \".join(words)\n",
    "    print(answer)"
   ]
  }
 ],
 "metadata": {
  "kernelspec": {
   "display_name": "Python 3",
   "language": "python",
   "name": "python3"
  },
  "language_info": {
   "codemirror_mode": {
    "name": "ipython",
    "version": 3
   },
   "file_extension": ".py",
   "mimetype": "text/x-python",
   "name": "python",
   "nbconvert_exporter": "python",
   "pygments_lexer": "ipython3",
   "version": "3.5.2"
  }
 },
 "nbformat": 4,
 "nbformat_minor": 2
}
